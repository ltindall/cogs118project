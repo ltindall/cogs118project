{
 "cells": [
  {
   "cell_type": "code",
   "execution_count": 94,
   "metadata": {
    "collapsed": true
   },
   "outputs": [],
   "source": [
    "import numpy as np"
   ]
  },
  {
   "cell_type": "code",
   "execution_count": 95,
   "metadata": {
    "collapsed": false
   },
   "outputs": [],
   "source": [
    "## classs Neuron\n",
    "# The hidden layer and the output layer will be represented as neurons. \n",
    "# Each neuron needs a net input and an output (sigmoid on net input)\n",
    "# \n",
    "# variables: \n",
    "#   \n",
    "# methods: \n",
    "#   calc_weight_output \n",
    "# \n",
    "#   calc_output\n",
    "#     sigmoid(calc_net_input)\n",
    "#   \n",
    "#   d_etot_out (target)\n",
    "# \n",
    "#   d_out_net\n",
    "# \n",
    "#   d_net_weight(index of weight)\n",
    "class Neuron: \n",
    "    \n",
    "    ## weights is a numpy matrix of initial weights \n",
    "    def __init__(self, weights): \n",
    "        print \"hi\"\n",
    "    "
   ]
  },
  {
   "cell_type": "code",
   "execution_count": 96,
   "metadata": {
    "collapsed": false
   },
   "outputs": [],
   "source": [
    "## classs NetworkLayer\n",
    "# The hidden layer and the output layer will be represented as neurons. \n",
    "# Each neuron needs a net input and an output (sigmoid on net input)\n",
    "# \n",
    "# variables: \n",
    "#   \n",
    "# methods: \n",
    "#   calc_weight_output \n",
    "# \n",
    "#   calc_output\n",
    "#     sigmoid(calc_net_input)\n",
    "#   \n",
    "#   d_etot_out (target)\n",
    "# \n",
    "#   d_out_net\n",
    "# \n",
    "#   d_net_weight(index of weight)\n",
    "class NetworkLayer: \n",
    "    \n",
    "    ## weights is a numpy matrix of initial weights \n",
    "    # rows of weight matrix correspond to each neurons weight\n",
    "    # (row i contains the weights leading into the i'th neuron of this layer)\n",
    "    def __init__(self, weights): \n",
    "        self.weights = weights\n",
    "    "
   ]
  },
  {
   "cell_type": "code",
   "execution_count": 97,
   "metadata": {
    "collapsed": false
   },
   "outputs": [
    {
     "name": "stdout",
     "output_type": "stream",
     "text": [
      "[3, 1]\n",
      "[2, 3]\n",
      "[(2, 3), (3, 1)]\n",
      "[array([[ 0.45540226,  0.23651526],\n",
      "       [ 0.77867458, -0.0435379 ],\n",
      "       [-0.58857446, -1.53189216]]), array([[-0.46438743, -0.56594014,  0.59816661]])]\n"
     ]
    }
   ],
   "source": [
    "#### TESTING\n",
    "sizes = [2,3,1]\n",
    "print sizes[1:]\n",
    "print sizes[:-1]\n",
    "print zip(sizes[:-1], sizes[1:])\n",
    "s = [np.random.randn(y, x) for x, y in zip(sizes[:-1], sizes[1:])]\n",
    "print s "
   ]
  },
  {
   "cell_type": "code",
   "execution_count": 99,
   "metadata": {
    "collapsed": false
   },
   "outputs": [
    {
     "ename": "IndentationError",
     "evalue": "expected an indented block (<ipython-input-99-b4d70a10ca40>, line 73)",
     "output_type": "error",
     "traceback": [
      "\u001b[0;36m  File \u001b[0;32m\"<ipython-input-99-b4d70a10ca40>\"\u001b[0;36m, line \u001b[0;32m73\u001b[0m\n\u001b[0;31m    def run_test(self, test_input, test_output):\u001b[0m\n\u001b[0m    ^\u001b[0m\n\u001b[0;31mIndentationError\u001b[0m\u001b[0;31m:\u001b[0m expected an indented block\n"
     ]
    }
   ],
   "source": [
    "## class NeuralNetwork\n",
    "# Groups of neurons form layers in the neural network. \n",
    "# The first layer is just the inputs (no need to represent these as neurons). \n",
    "# The second layer is the hidden layer. \n",
    "# The third layer is the output layer. \n",
    "# \n",
    "# #change to batches \n",
    "# Loop until (convergence or large number reached)\n",
    "#   First, the network will make a forward pass through all the layers and output a prediction.\n",
    "#   {DEBUG INFO} print total error before weight update \n",
    "#   Second, the network will perform backpropagation to update the neuron weights. \n",
    "#     [backpropagation on output layer] The network will first update the output layer weights. \n",
    "#     [backpropagation on hidden layer] The network will then update the hidden layer weights. \n",
    "#   {DEBUG INFO} print the total error after updating all weights, it should have decreased \n",
    "# methods: \n",
    "#   forward_pass(layer)\n",
    "#     run calc_weight_output on every neuron in layer \n",
    "#   \n",
    "#   backpropagation\n",
    "#     calcute gradient\n",
    "#     update weights \n",
    "#   \n",
    "#   train(training_data, epochs, batch_size)\n",
    "class NeuralNetwork: \n",
    "    \n",
    "    def __init__(self, input_layer_size, hidden_layer_size, output_layer_size):\n",
    "        \n",
    "        # Input layer is just training data\n",
    "        \n",
    "        #############################\n",
    "        # Hidden layer\n",
    "        # each neuron in the hidden layer as a weight connecting it to every point in the training data \n",
    "        #\n",
    "        \n",
    "        # make random initial weights \n",
    "        self.hidden_layer_size = hidden_layer_size\n",
    "        \n",
    "        rand_hidden_weights = np.random.randn(hidden_layer_size, input_layer_size)\n",
    "        \n",
    "        self.hidden_layer = NetworkLayer(rand_hidden_weights)\n",
    "        #\n",
    "        # End Hidden Layer \n",
    "        ##############################\n",
    "        \n",
    "        \n",
    "        ##############################\n",
    "        # Output Layer\n",
    "        #\n",
    "        self.output_layer_size = output_layer_size \n",
    "        rand_output_weights = np.random.randn(output_layer_size, hidden_layer_size)\n",
    "        \n",
    "        self.output_layer = NetworkLayer(rand_output_weights)\n",
    "        #\n",
    "        # End Output Layer \n",
    "        ################################\n",
    "        for i in range(hidden_layer_size): \n",
    "            self.hidden_layer.append(Neuron())\n",
    "            \n",
    "    def train(self, training_data, epochs, batch_size, alpha): \n",
    "        \n",
    "        # ensure training data is a numpy matrix \n",
    "        \n",
    "        for i in range(epochs): \n",
    "            # shuffle the training data \n",
    "            \n",
    "            # create a set of batches according to batch_size\n",
    "            \n",
    "            # for each batch \n",
    "                # run forward_pass\n",
    "                # run backpropagation (and update weights)\n",
    "            # print error\n",
    "            # run forward_pass on test data \n",
    "            \n",
    "    def run_test(self, test_input, test_output): \n",
    "        network_test_output = forward_pass(test_input)\n",
    "        network_test_output = network_test_output.argmax(0)\n",
    "        expected_test_output = test_output.argmax(0)\n",
    "        \n",
    "        correct = 0\n",
    "        for i in range(expected_test_output.shape[1]): \n",
    "            correct = correct + int(network_test_output[0][i] == expected_test_output[0][i])\n",
    "        \n",
    "        print \"Test Results: \" + str(correct) + \"/\" + str(expected_test_output.shape[1]) \n",
    "                + \" = \" + str(correct/expected_test_output.shape[1] * 100) +\"%\" \n",
    "    \n",
    "    def backpropagation(self, inputs, outputs, alpha): \n",
    "        \n",
    "        #calculate delta of all neurons \n",
    "        # delta is different for hidden layer neurons vs. output layer neurons \n",
    "        \n",
    "        # delta for output layer neurons \n",
    "        # delta = \n",
    "        # (output of current output neuron - target) \n",
    "        # * (output of current output neuron) * (1 - output of current output neuron) \n",
    "        # size of output deltas = size of output neuron layer \n",
    "        #self.output_deltas = np.zeros(self.output_layer_size, 1)\n",
    "        self.output_deltas = ((self.output_layer_output - outputs) \n",
    "                              * (self.output_layer_output * (1 - self.output_layer_output)))\n",
    "        \n",
    "        # delta for hidden layer neurons \n",
    "        # delta = \n",
    "        # [for each output layer neuron(\n",
    "        # (output of output neuron - target)  \n",
    "        # * (output of output neuron) * (1 - output of output neuron) \n",
    "        # * output layer weight from the current hidden neuron to for loop output neuron  )]\n",
    "        # * (output of current hidden neuron) * (1 - output of current hidden neuron)\n",
    "        # size of hidden deltas = size of hidden neuron layer \n",
    "        temp_sum = np.sum((self.output_deltas * self.output_layer.weights), axis=1)\n",
    "        self.hidden_deltas = (temp_sum * self.hidden_layer_output * (1 - self.hidden_layer_output))\n",
    "        \n",
    "        # gradient = delta of neuron * input to neuron \n",
    "        # gradients for input to hidden weights = np.dot( delta of hidden neurons, inputs to network )\n",
    "        # gradients for hidden to output weights = np.dot( delta of output neurons, outputs of hidden neurons )\n",
    "        # gradient matrix should match size of weights matrix \n",
    "        self.output_gradients = np.dot(self.output_deltas, self.hidden_layer_output)\n",
    "        self.hidden_gradients = np.dot(self.hidden_deltas, self.network_input)\n",
    "        \n",
    "        # use matrix operations below \n",
    "        # update amount = learning rate * -1 * gradient\n",
    "        output_update_amounts = alpha * -1 * self.output_gradients \n",
    "        hidden_update_amounts = alpha * -1 * self.hidden_gradients \n",
    "        \n",
    "        self.output_layer.weights = self.output_layer.weights + output_update_amounts\n",
    "        self.hidden_layer.weights = self.hidden_layer.weights + hidden_update_amounts \n",
    "        \n",
    "    def forward_pass(self, data): \n",
    "\n",
    "        ######################################\n",
    "        ### Forward pass through hidden layer \n",
    "\n",
    "        # input for hidden layer \n",
    "        self.network_input = data\n",
    "        \n",
    "        # dot product of hidden layer weights and network inputs \n",
    "        hidden_layer_net_input = np.dot(self.hidden_layer.weights, self.network_input)\n",
    "        \n",
    "        # apply activation(sigmoid) to dot product \n",
    "        self.hidden_layer_output = sigmoid(hidden_layer_net_input)\n",
    "        \n",
    "        \n",
    "        #####################################\n",
    "        ### Forward pass through output layer \n",
    "        \n",
    "        # input for output layer is output of hidden layer \n",
    "        output_layer_input = self.hidden_layer_output\n",
    "        \n",
    "        # dot product of output layer weights and hidden layer output \n",
    "        output_layer_net_input = np.dot(self.output_layer.weights, output_layer_input)\n",
    "        \n",
    "        # apply activation(sigmoid) to dot product \n",
    "        self.output_layer_output = sigmoid(output_layer_net_input)\n",
    "        \n",
    "        return self.output_layer_output\n",
    "        \n",
    "        \n",
    "    def sigmoid(self,t):\n",
    "        return 1.0/(1.0+np.exp(-t))\n",
    "        \n",
    "    \n",
    "    "
   ]
  },
  {
   "cell_type": "code",
   "execution_count": null,
   "metadata": {
    "collapsed": false
   },
   "outputs": [],
   "source": [
    "a = np.random.randn(1,4)\n",
    "print a \n",
    "b = np.random.randn(1,4)\n",
    "print b \n",
    "for i in range(a.shape[1]): \n",
    "    print int(a[0][i] == b[0][i])\n",
    "    \n",
    "print int(5==5)\n",
    "print \"test \"+str(5)+\"/\"+str(4)"
   ]
  },
  {
   "cell_type": "code",
   "execution_count": null,
   "metadata": {
    "collapsed": false
   },
   "outputs": [],
   "source": [
    "#### TESTING\n",
    "def sigmoid(t):\n",
    "    return 1.0/(1.0+np.exp(-t))\n",
    "weights = [[.15,.2],[.25,.3]]\n",
    "print weights[1][1]\n",
    "print weights\n",
    "inputs = [[0.05],[.1]]\n",
    "print inputs \n",
    "net_input = np.dot(weights, inputs)\n",
    "net_input = net_input+.35\n",
    "print net_input\n",
    "print sigmoid(net_input)"
   ]
  },
  {
   "cell_type": "code",
   "execution_count": null,
   "metadata": {
    "collapsed": false
   },
   "outputs": [],
   "source": [
    "### TESTING\n",
    "import mnist\n",
    "from pylab import * \n",
    "images, labels = mnist.load_mnist('training', path=\".\")\n",
    "imshow(images[0], cmap=cm.gray)\n",
    "show()\n",
    "print images[0]"
   ]
  },
  {
   "cell_type": "code",
   "execution_count": null,
   "metadata": {
    "collapsed": false
   },
   "outputs": [],
   "source": [
    "### TESTING\n",
    "\n",
    "print images.shape\n",
    "print images[0].shape\n",
    "print np.append([],images[0])\n",
    "np.reshape(images[i], (784,1))\n",
    "#for i in range(images.shape[0]):\n",
    "    #temp = np.append([], images[i])\n",
    "    #images[i] = temp\n",
    "    #images[i] = np.reshape(images[i], (784,1))\n",
    "    "
   ]
  },
  {
   "cell_type": "code",
   "execution_count": null,
   "metadata": {
    "collapsed": true
   },
   "outputs": [],
   "source": [
    "#"
   ]
  }
 ],
 "metadata": {
  "anaconda-cloud": {},
  "kernelspec": {
   "display_name": "Python [default]",
   "language": "python",
   "name": "python2"
  },
  "language_info": {
   "codemirror_mode": {
    "name": "ipython",
    "version": 2
   },
   "file_extension": ".py",
   "mimetype": "text/x-python",
   "name": "python",
   "nbconvert_exporter": "python",
   "pygments_lexer": "ipython2",
   "version": "2.7.12"
  }
 },
 "nbformat": 4,
 "nbformat_minor": 1
}
