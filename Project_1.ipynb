{
 "cells": [
  {
   "cell_type": "code",
   "execution_count": null,
   "metadata": {
    "collapsed": true
   },
   "outputs": [],
   "source": [
    "## classs Neuron\n",
    "# The hidden layer and the output layer will be represented as neurons. \n",
    "# Each neuron needs a net input and an output (sigmoid on net input)\n",
    "# \n",
    "# methods: \n",
    "#   calc_weight_output \n",
    "# \n",
    "#   calc_output\n",
    "#     sigmoid(calc_net_input)\n",
    "#   \n",
    "#   d_etot_out (target)\n",
    "# \n",
    "#   d_out_net\n",
    "# \n",
    "#   d_net_weight(index of weight)\n",
    "class Neuron: \n",
    "    "
   ]
  },
  {
   "cell_type": "code",
   "execution_count": null,
   "metadata": {
    "collapsed": true
   },
   "outputs": [],
   "source": [
    "## class NeuralNetwork\n",
    "# Groups of neurons form layers in the neural network. \n",
    "# The first layer is just the inputs (no need to represent these as neurons). \n",
    "# The second layer is the hidden layer. \n",
    "# The third layer is the output layer. \n",
    "# \n",
    "# #change to batches \n",
    "# Loop until (convergence or large number reached)\n",
    "#   First, the network will make a forward pass through all the layers and output a prediction.\n",
    "#   {DEBUG INFO} print total error before weight update \n",
    "#   Second, the network will perform backpropagation to update the neuron weights. \n",
    "#     [backpropagation on output layer] The network will first update the output layer weights. \n",
    "#     [backpropagation on hidden layer] The network will then update the hidden layer weights. \n",
    "#   {DEBUG INFO} print the total error after updating all weights, it should have decreased \n",
    "# methods: \n",
    "#   forward_pass(layer)\n",
    "#     run calc_weight_output on every neuron in layer \n",
    "#   \n",
    "#   backpropagation\n",
    "#     calcute gradient\n",
    "#     update weights \n",
    "#   \n",
    "#   train(training_data, epochs, batch_size)\n",
    "class NeuralNetwork: \n",
    "    "
   ]
  }
 ],
 "metadata": {
  "anaconda-cloud": {},
  "kernelspec": {
   "display_name": "Python [default]",
   "language": "python",
   "name": "python2"
  },
  "language_info": {
   "codemirror_mode": {
    "name": "ipython",
    "version": 2
   },
   "file_extension": ".py",
   "mimetype": "text/x-python",
   "name": "python",
   "nbconvert_exporter": "python",
   "pygments_lexer": "ipython2",
   "version": "2.7.12"
  }
 },
 "nbformat": 4,
 "nbformat_minor": 1
}
